{
 "cells": [
  {
   "cell_type": "markdown",
   "metadata": {},
   "source": [
    "참고\n",
    "\n",
    "https://medium.com/analytics-vidhya/how-to-convert-tensorflow-object-detection-csv-data-to-coco-json-format-d0693d5b2f75\n",
    "\n",
    "https://stackoverflow.com/questions/50916422/python-typeerror-object-of-type-int64-is-not-json-serializable"
   ]
  },
  {
   "cell_type": "code",
   "execution_count": 1,
   "metadata": {},
   "outputs": [],
   "source": [
    "import pandas as pd\n",
    "import os\n",
    "import glob\n",
    "import json\n",
    "import cv2\n",
    "import numpy as np"
   ]
  },
  {
   "cell_type": "code",
   "execution_count": 2,
   "metadata": {},
   "outputs": [],
   "source": [
    "data = pd.read_csv(\"horse_data.csv\")\n",
    "path = \"labeled-data/Sample20\"\n",
    "data_list = glob.glob(os.path.join(path,\"*.png\"))\n",
    "data = data[data[\"image\"].isin(data_list)].dropna().reset_index(drop=True)"
   ]
  },
  {
   "cell_type": "code",
   "execution_count": 3,
   "metadata": {},
   "outputs": [],
   "source": [
    "df = pd.DataFrame()\n",
    "\n",
    "df[\"x\"] = 0\n",
    "df[\"y\"] = 0\n",
    "df[\"w\"] = 0\n",
    "df[\"h\"] = 0\n",
    "df[\"width\"] = 0\n",
    "df[\"height\"] = 0"
   ]
  },
  {
   "cell_type": "code",
   "execution_count": 4,
   "metadata": {},
   "outputs": [],
   "source": [
    "x_cols = ['Nose_x', 'Eye_x', 'Nearknee_x', 'Nearfrontfetlock_x','Nearfrontfoot_x', 'Offknee_x',\n",
    "          'Offfrontfetlock_x','Offfrontfoot_x','Shoulder_x','Midshoulder_x',\n",
    "          'Elbow_x', 'Girth_x', 'Wither_x','Nearhindhock_x', 'Nearhindfetlock_x',\n",
    "          'Nearhindfoot_x','Hip_x','Stifle_x', 'Offhindhock_x','Offhindfetlock_x','Offhindfoot_x',\n",
    "          'Ischium_x']\n",
    "\n",
    "y_cols = ['Nose_y', 'Eye_y', 'Nearknee_y', 'Nearfrontfetlock_y','Nearfrontfoot_y', 'Offknee_y',\n",
    "          'Offfrontfetlock_y','Offfrontfoot_y','Shoulder_y','Midshoulder_y',\n",
    "          'Elbow_y', 'Girth_y', 'Wither_y','Nearhindhock_y', 'Nearhindfetlock_y',\n",
    "          'Nearhindfoot_y','Hip_y','Stifle_y', 'Offhindhock_y','Offhindfetlock_y','Offhindfoot_y',\n",
    "          'Ischium_y']"
   ]
  },
  {
   "cell_type": "code",
   "execution_count": 5,
   "metadata": {},
   "outputs": [],
   "source": [
    "for i in range(len(data)):\n",
    "    xmax = data.iloc[i][x_cols].max()\n",
    "    xmin = data.iloc[i][x_cols].min()\n",
    "    \n",
    "    ymax = data.iloc[i][y_cols].max()\n",
    "    ymin = data.iloc[i][y_cols].min()\n",
    "    \n",
    "    img = cv2.imread(data.iloc[i][\"image\"])\n",
    "    \n",
    "    w = img.shape[0]\n",
    "    h = img.shape[1]\n",
    "    \n",
    "    df.loc[i] = [xmin, ymax, xmax-xmin, ymax-ymin, w, h]"
   ]
  },
  {
   "cell_type": "code",
   "execution_count": 6,
   "metadata": {},
   "outputs": [],
   "source": [
    "data = pd.concat([data, df], axis=1)"
   ]
  },
  {
   "cell_type": "code",
   "execution_count": null,
   "metadata": {},
   "outputs": [],
   "source": [
    "data.to_csv(\"horse.csv\",index=False)"
   ]
  },
  {
   "cell_type": "code",
   "execution_count": 7,
   "metadata": {},
   "outputs": [],
   "source": [
    "images = []\n",
    "categories = []\n",
    "annotations = []\n",
    "\n",
    "category = {}\n",
    "category[\"supercategory\"] = 'animal'\n",
    "category[\"id\"] = 1\n",
    "category[\"name\"] = 'horse'\n",
    "categories.append(category)\n",
    "\n",
    "data['fileid'] = data['image'].astype('category').cat.codes\n",
    "data['categoryid']= 1\n",
    "data['annid'] = data.index"
   ]
  },
  {
   "cell_type": "code",
   "execution_count": 8,
   "metadata": {},
   "outputs": [],
   "source": [
    "def image(row):\n",
    "    image = {}\n",
    "    image[\"height\"] = row.height\n",
    "    image[\"width\"] = row.width\n",
    "    image[\"id\"] = row.fileid\n",
    "    image[\"file_name\"] = row.image\n",
    "    return image\n",
    "\n",
    "def category(row):\n",
    "    category = {}\n",
    "    category[\"supercategory\"] = \"animal\"\n",
    "    category[\"id\"] = row.categoryid\n",
    "    category[\"name\"] = \"horse\"\n",
    "    return category\n",
    "\n",
    "def make_keypoints(row):\n",
    "    row = row[1:]\n",
    "    key = []\n",
    "    for i in range(44):\n",
    "        if (i!=0 and i%2==0):\n",
    "            key.append(2)\n",
    "        key.append(row[i])\n",
    "    key.append(2)\n",
    "        \n",
    "    return key\n",
    "\n",
    "def annotation(row):\n",
    "    annotation = {}\n",
    "    area = row.w * row.h\n",
    "    annotation[\"segmentation\"] = []\n",
    "    annotation[\"iscrowd\"] = 0\n",
    "    annotation[\"area\"] = area\n",
    "    annotation[\"image_id\"] = row.fileid\n",
    "\n",
    "    annotation[\"bbox\"] = [row.x, row.y, row.w, row.h]\n",
    "\n",
    "    annotation[\"category_id\"] = row.categoryid\n",
    "    annotation[\"id\"] = row.annid\n",
    "    \n",
    "    annotation[\"keypoints\"] = make_keypoints(row)\n",
    "    annotation[\"num_keypoints\"] = 22\n",
    "    return annotation"
   ]
  },
  {
   "cell_type": "code",
   "execution_count": 9,
   "metadata": {},
   "outputs": [],
   "source": [
    "for i in range(len(data)):\n",
    "    annotations.append(annotation(data.loc[i]))\n",
    "    images.append(image(data.loc[i]))\n",
    "    categories.append(category(data.loc[i]))"
   ]
  },
  {
   "cell_type": "code",
   "execution_count": 10,
   "metadata": {},
   "outputs": [],
   "source": [
    "class NpEncoder(json.JSONEncoder):\n",
    "    def default(self, obj):\n",
    "        if isinstance(obj, np.integer):\n",
    "            return int(obj)\n",
    "        if isinstance(obj, np.floating):\n",
    "            return float(obj)\n",
    "        if isinstance(obj, np.ndarray):\n",
    "            return obj.tolist()\n",
    "        return super(NpEncoder, self).default(obj)"
   ]
  },
  {
   "cell_type": "code",
   "execution_count": 11,
   "metadata": {},
   "outputs": [],
   "source": [
    "data_coco = {}\n",
    "data_coco[\"images\"] = images\n",
    "data_coco[\"categories\"] = categories\n",
    "data_coco[\"annotations\"] = annotations\n",
    "\n",
    "json.dump(data_coco, open(\"horse.json\", \"w\"),cls=NpEncoder)"
   ]
  },
  {
   "cell_type": "code",
   "execution_count": 12,
   "metadata": {},
   "outputs": [],
   "source": [
    "with open(\"horse.json\", \"r\") as json_file:\n",
    "    json_load = json.load(json_file)"
   ]
  }
 ],
 "metadata": {
  "kernelspec": {
   "display_name": "pytorch",
   "language": "python",
   "name": "pytorch"
  },
  "language_info": {
   "codemirror_mode": {
    "name": "ipython",
    "version": 3
   },
   "file_extension": ".py",
   "mimetype": "text/x-python",
   "name": "python",
   "nbconvert_exporter": "python",
   "pygments_lexer": "ipython3",
   "version": "3.9.13"
  }
 },
 "nbformat": 4,
 "nbformat_minor": 2
}
